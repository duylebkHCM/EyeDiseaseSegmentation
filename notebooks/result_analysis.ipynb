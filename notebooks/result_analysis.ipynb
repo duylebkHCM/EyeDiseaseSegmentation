{
 "metadata": {
  "language_info": {
   "codemirror_mode": {
    "name": "ipython",
    "version": 3
   },
   "file_extension": ".py",
   "mimetype": "text/x-python",
   "name": "python",
   "nbconvert_exporter": "python",
   "pygments_lexer": "ipython3",
   "version": "3.8.6-final"
  },
  "orig_nbformat": 2,
  "kernelspec": {
   "name": "python3",
   "display_name": "Python 3.8.6 64-bit ('torch': conda)",
   "metadata": {
    "interpreter": {
     "hash": "1b8ffb8f5d84abbbb18c14ffbee1d546c2b1d0ea0a32acecdb566784f2adda28"
    }
   }
  }
 },
 "nbformat": 4,
 "nbformat_minor": 2,
 "cells": [
  {
   "cell_type": "code",
   "execution_count": 2,
   "metadata": {},
   "outputs": [],
   "source": [
    "from catalyst.metrics import auc, dice, iou, precision, recall\n",
    "from PIL import Image\n",
    "import cv2\n",
    "from skimage.io import imread\n",
    "import os\n",
    "import numpy as np\n",
    "import torch\n",
    "import re\n",
    "import albumentations as A"
   ]
  },
  {
   "cell_type": "code",
   "execution_count": 1,
   "metadata": {},
   "outputs": [],
   "source": [
    "pred_dir = '../outputs'\n",
    "mask_dir = '../data/raw/2. All Segmentation Groundtruths/b. Testing Set'"
   ]
  },
  {
   "source": [
    "## EX_EP5"
   ],
   "cell_type": "markdown",
   "metadata": {}
  },
  {
   "cell_type": "code",
   "execution_count": 3,
   "metadata": {},
   "outputs": [],
   "source": [
    "ex_pred = pred_dir + '/EX_lr0.001_ep5'\n",
    "ex_mask = mask_dir + '/3. Hard Exudates'"
   ]
  },
  {
   "cell_type": "code",
   "execution_count": 5,
   "metadata": {
    "tags": []
   },
   "outputs": [
    {
     "output_type": "stream",
     "name": "stdout",
     "text": [
      "torch.Size([27, 2848, 4288])\n",
      "torch.Size([27, 2848, 4288])\n",
      "tensor([0, 1], dtype=torch.int8)\n",
      "tensor([0, 1], dtype=torch.int8)\n",
      "Dice 0.06675796955823898\n",
      "IoU 0.0345316156744957\n"
     ]
    }
   ],
   "source": [
    "num_masks = len(os.listdir(ex_mask))\n",
    "num_preds = len(os.listdir(ex_pred))\n",
    "\n",
    "list_preds = [os.path.join(ex_pred, f) for f in os.listdir(ex_pred)]\n",
    "list_masks = [os.path.join(ex_mask, f) for f in os.listdir(ex_mask)]\n",
    "\n",
    "example = Image.open(list_masks[0])\n",
    "example_pred = Image.open(list_preds[0])\n",
    "\n",
    "w, h = example.size\n",
    "\n",
    "preds = torch.zeros((num_preds, h, w), dtype=torch.int8)\n",
    "print(preds.shape)\n",
    "masks = torch.zeros((num_preds, h, w), dtype=torch.int8)\n",
    "print(masks.shape)\n",
    "\n",
    "for i in range(num_preds):\n",
    "    mask_name = re.sub('.jpg', '_EX.tif', list_preds[i].split('/')[-1])\n",
    "\n",
    "    if mask_name not in os.listdir(ex_mask) or mask_name == 'IDRiD_56_EX.tif':\n",
    "        new_mask = np.zeros((h, w))\n",
    "    else:\n",
    "        mask = Image.open(list_masks[i]) #size w, h\n",
    "        new_mask = np.array(mask).astype(np.uint8) #shape h, w\n",
    "    \n",
    "    pred = Image.open(list_preds[i])\n",
    "    pred = np.array(pred).astype(np.uint8)\n",
    "    pred = (pred > 100).astype(np.uint8)\n",
    "    resize = A.Resize(h, w)\n",
    "    pred = A.Compose([resize])(image = pred)['image']\n",
    "\n",
    "    pred = torch.tensor(pred, dtype=torch.uint8)\n",
    "    new_mask = torch.tensor(new_mask, dtype=torch.uint8)\n",
    "\n",
    "    preds[i] = pred\n",
    "    masks[i] = new_mask\n",
    "\n",
    "print(masks.unique())\n",
    "print(preds.unique())\n",
    "\n",
    "print(f'Dice {dice(preds[:, None, :, :], masks[:, None, :, :]).mean()}')\n",
    "print(f'IoU {iou(preds[:, None, :, :], masks[:, None, :, :]).mean()}')\n",
    "\n",
    "\n"
   ]
  },
  {
   "cell_type": "code",
   "execution_count": null,
   "metadata": {},
   "outputs": [],
   "source": []
  }
 ]
}